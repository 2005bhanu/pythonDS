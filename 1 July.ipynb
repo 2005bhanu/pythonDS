{
 "cells": [
  {
   "cell_type": "code",
   "execution_count": 10,
   "id": "80390882-04b5-4ec5-8553-376fc6cced96",
   "metadata": {},
   "outputs": [
    {
     "name": "stdout",
     "output_type": "stream",
     "text": [
      "Requirement already satisfied: pandas in c:\\users\\bhawa\\appdata\\local\\programs\\python\\python313\\lib\\site-packages (2.3.0)\n",
      "Requirement already satisfied: numpy>=1.26.0 in c:\\users\\bhawa\\appdata\\local\\programs\\python\\python313\\lib\\site-packages (from pandas) (2.3.1)\n",
      "Requirement already satisfied: python-dateutil>=2.8.2 in c:\\users\\bhawa\\appdata\\local\\programs\\python\\python313\\lib\\site-packages (from pandas) (2.9.0.post0)\n",
      "Requirement already satisfied: pytz>=2020.1 in c:\\users\\bhawa\\appdata\\local\\programs\\python\\python313\\lib\\site-packages (from pandas) (2025.2)\n",
      "Requirement already satisfied: tzdata>=2022.7 in c:\\users\\bhawa\\appdata\\local\\programs\\python\\python313\\lib\\site-packages (from pandas) (2025.2)\n",
      "Requirement already satisfied: six>=1.5 in c:\\users\\bhawa\\appdata\\local\\programs\\python\\python313\\lib\\site-packages (from python-dateutil>=2.8.2->pandas) (1.17.0)\n"
     ]
    },
    {
     "name": "stderr",
     "output_type": "stream",
     "text": [
      "\n",
      "[notice] A new release of pip is available: 24.3.1 -> 25.1.1\n",
      "[notice] To update, run: python.exe -m pip install --upgrade pip\n"
     ]
    }
   ],
   "source": [
    "!pip install pandas\n",
    "\n",
    "\n"
   ]
  },
  {
   "cell_type": "code",
   "execution_count": 11,
   "id": "48d01205-55e3-4fc5-8bf6-c829c329b51f",
   "metadata": {},
   "outputs": [
    {
     "data": {
      "text/plain": [
       "x    100\n",
       "y    200\n",
       "z    300\n",
       "w    400\n",
       "dtype: int64"
      ]
     },
     "execution_count": 11,
     "metadata": {},
     "output_type": "execute_result"
    }
   ],
   "source": [
    "import pandas as pd\n",
    "#Question 1\n",
    "data= pd.Series([100,200,300,400], index=['x','y','z','w'])\n",
    "data\n"
   ]
  },
  {
   "cell_type": "code",
   "execution_count": 12,
   "id": "c6786e64-30a3-4ca5-9920-a658ce56d91c",
   "metadata": {},
   "outputs": [
    {
     "data": {
      "text/plain": [
       "np.int64(200)"
      ]
     },
     "execution_count": 12,
     "metadata": {},
     "output_type": "execute_result"
    }
   ],
   "source": [
    "data.loc['y']\n"
   ]
  },
  {
   "cell_type": "code",
   "execution_count": 13,
   "id": "5d1c8052-2e79-46fc-a37a-bd18a0486845",
   "metadata": {},
   "outputs": [
    {
     "data": {
      "text/plain": [
       "np.int64(200)"
      ]
     },
     "execution_count": 13,
     "metadata": {},
     "output_type": "execute_result"
    }
   ],
   "source": [
    "#Question 2\n",
    "data= pd.Series([100,200,300,400], index=['x','y','z','w'])\n",
    "data.iloc[1]\n"
   ]
  },
  {
   "cell_type": "code",
   "execution_count": 14,
   "id": "dbed47cc-0b4c-48e7-9122-ca2bee92847a",
   "metadata": {},
   "outputs": [
    {
     "data": {
      "text/plain": [
       "y    200\n",
       "w    400\n",
       "dtype: int64"
      ]
     },
     "execution_count": 14,
     "metadata": {},
     "output_type": "execute_result"
    }
   ],
   "source": [
    "#Question 3\n",
    "data = pd.Series([100,200,300,400,],index=['x','y','z','w'])\n",
    "data.loc[['y','w']]"
   ]
  },
  {
   "cell_type": "code",
   "execution_count": 15,
   "id": "b14de087-12a5-431b-9398-fddb9e945f31",
   "metadata": {},
   "outputs": [
    {
     "data": {
      "text/plain": [
       "np.int64(400)"
      ]
     },
     "execution_count": 15,
     "metadata": {},
     "output_type": "execute_result"
    }
   ],
   "source": [
    "#Question 4\n",
    "data = pd.Series([100,200,300,400,],index=['x','y','z','w'])\n",
    "data.iloc[3]"
   ]
  },
  {
   "cell_type": "code",
   "execution_count": 16,
   "id": "03bed44c-d022-4e4d-aa0b-edab69b2ef03",
   "metadata": {},
   "outputs": [
    {
     "data": {
      "text/plain": [
       "y    200\n",
       "z    300\n",
       "dtype: int64"
      ]
     },
     "execution_count": 16,
     "metadata": {},
     "output_type": "execute_result"
    }
   ],
   "source": [
    "#Questions 5\n",
    "data = pd.Series([100,200,300,400,],index=['x','y','z','w'])\n",
    "data.loc['y':'z']\n"
   ]
  },
  {
   "cell_type": "code",
   "execution_count": 17,
   "id": "9bc9c6db-93e7-4fd6-8745-a5580245d14d",
   "metadata": {},
   "outputs": [
    {
     "data": {
      "text/plain": [
       "np.int64(300)"
      ]
     },
     "execution_count": 17,
     "metadata": {},
     "output_type": "execute_result"
    }
   ],
   "source": [
    "#Question 6\n",
    "series1 = pd.Series([100,200,300,400,],index=[1,2,3,4])\n",
    "series1.loc[2]\n",
    "\n",
    "series1 = pd.Series([100,200,300,400,],index=[1,2,3,4])\n",
    "series1.iloc[2]\n"
   ]
  },
  {
   "cell_type": "code",
   "execution_count": 18,
   "id": "b285f697-712d-46bf-8e0c-7252a251dae4",
   "metadata": {},
   "outputs": [
    {
     "data": {
      "text/plain": [
       "np.int64(200)"
      ]
     },
     "execution_count": 18,
     "metadata": {},
     "output_type": "execute_result"
    }
   ],
   "source": [
    "data = pd.Series([200,300,400,500,],index=['x','y','z','w'])\n",
    "data.x\n"
   ]
  }
 ],
 "metadata": {
  "kernelspec": {
   "display_name": "Python 3 (ipykernel)",
   "language": "python",
   "name": "python3"
  },
  "language_info": {
   "codemirror_mode": {
    "name": "ipython",
    "version": 3
   },
   "file_extension": ".py",
   "mimetype": "text/x-python",
   "name": "python",
   "nbconvert_exporter": "python",
   "pygments_lexer": "ipython3",
   "version": "3.13.2"
  }
 },
 "nbformat": 4,
 "nbformat_minor": 5
}
